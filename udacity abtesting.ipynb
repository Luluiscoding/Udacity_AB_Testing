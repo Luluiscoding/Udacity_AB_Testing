{
 "cells": [
  {
   "attachments": {},
   "cell_type": "markdown",
   "metadata": {},
   "source": [
    "# Udacity ABtesting"
   ]
  },
  {
   "cell_type": "markdown",
   "metadata": {},
   "source": [
    "## 1.Preparation\n",
    "\n",
    "### 1.1 Packages"
   ]
  },
  {
   "cell_type": "code",
   "execution_count": 1,
   "metadata": {},
   "outputs": [],
   "source": [
    "import numpy as np\n",
    "import scipy.stats as stats\n",
    "import math\n",
    "from scipy.stats import norm\n",
    "import pandas as pd\n",
    "import matplotlib.pyplot as plt"
   ]
  },
  {
   "cell_type": "markdown",
   "metadata": {},
   "source": [
    "### Data Import"
   ]
  },
  {
   "cell_type": "markdown",
   "metadata": {},
   "source": [
    "### Define Functions"
   ]
  },
  {
   "cell_type": "code",
   "execution_count": 2,
   "metadata": {},
   "outputs": [],
   "source": [
    "def get_z_star(alpha):\n",
    "    return stats.norm.ppf(alpha)"
   ]
  },
  {
   "attachments": {},
   "cell_type": "markdown",
   "metadata": {},
   "source": [
    "## 2.Choosing and Characterizing\n",
    "\n",
    "### 2.1 Experiment Overview\n",
    "\n",
    "At the time of this experiment, Udacity courses currently have two options on the course overview page and here are some following events after clicking the button:  \n",
    "- **\"start free trial\"**:  they will be asked to enter their credit card information, and then they will be enrolled in a free trial for the paid version of the course. After 14 days, they will automatically be charged unless they cancel first.  \n",
    "- **\"access course materials\"**: they will be able to view the videos and take the quizzes for free, but they will not receive coaching support or a verified certificate, and they will not submit their final project for feedback.  \n",
    "\n",
    "In the experiment, Udacity tested a change where `if the student clicked \"start free trial\", they were asked how much time they had available to devote to the course. If the student indicated 5 or more hours per week, they would be taken through the checkout process as usual. If they indicated fewer than 5 hours per week, a message would appear indicating that Udacity courses usually require a greater time commitment for successful completion, and suggesting that the student might like to access the course materials for free. At this point, the student would have the option to continue enrolling in the free trial, or access the course materials for free instead.`  \n",
    "\n",
    "\n",
    "The hypothesis was that this might set clearer expectations for students upfront, thus reducing the number of frustrated students who left the free trial because they didn't have enough time—without significantly reducing the number of students to continue past the free trial and eventually complete the course. If this hypothesis held true, Udacity could improve the overall student experience and improve coaches' capacity to support students who are likely to complete the course.    \n",
    "\n"
   ]
  },
  {
   "cell_type": "markdown",
   "metadata": {},
   "source": [
    "### 2.2 Business Objective\n",
    "\n",
    "Maximize the course completion rate of “Free Trial” users through guiding the students who do not have enough time to “access course materials”.\n"
   ]
  },
  {
   "cell_type": "markdown",
   "metadata": {},
   "source": [
    "### 2.3 Customer Funnel\n",
    "\n",
    "<img src=\"image/19.png\" width=\"700\">"
   ]
  },
  {
   "attachments": {},
   "cell_type": "markdown",
   "metadata": {},
   "source": [
    "### 2.4 Metrics Overview \n",
    "\n",
    "#### Data explanation\n",
    "\n",
    "Here are the data we collected:  \n",
    "\n"
   ]
  },
  {
   "cell_type": "markdown",
   "metadata": {},
   "source": [
    "|  item  |  data  |\n",
    "|  ----  |  ----  |\n",
    "|  Unique cookies to view course overview page per day  |  40000  |\n",
    "|  Unique cookies to click \"Start free trial\" per day   |  3200  |\n",
    "|  Enrollments per day  | 660  |\n",
    "|  Click-through-probability on \"Start free trial\"  |  0.08  |\n",
    "|  Probability of enrolling, given click  |  0.20625  |\n",
    "|  Probability of payment, given enroll  |  0.53  |\n",
    "|  Probability of payment, given click  |  0.1093125  |\n"
   ]
  },
  {
   "cell_type": "markdown",
   "metadata": {},
   "source": [
    "\n",
    "In the following analysis, $d_{min}$ means the minimum change which is significant for business."
   ]
  },
  {
   "attachments": {},
   "cell_type": "markdown",
   "metadata": {},
   "source": [
    "#### Metrics' practial significance bar\n",
    "\n",
    "Here are metrics we may use for invariant metrics or evaluation metrics  \n",
    "\n"
   ]
  },
  {
   "cell_type": "markdown",
   "metadata": {},
   "source": [
    "|  Metrics  | $d_{min}$  |\n",
    "|  -------- |  --------  |\n",
    "| **# of Cookies**: # of unique cookies to view the course overview page | 3000 |\n",
    "| **# of users-ids**: # of users who eroll in the free trial | 50 |\n",
    "| **# of clicks**: # of unique cookies to click the \"start free trial\" button (before the free trial screener is trigger) | 240 |\n",
    "| **CTP** $= \\frac{\\text{number of unique cookies to click the button}}{\\text{number of unique cookies to view the course overview page}}$ | 0.01 |\n",
    "| **Gross conversion** $= \\frac{\\text{number of user-ids to complete checkout and enroll in the free trial}}{\\text{number of unique cookies to click the button}}$ | 0.01 |\n",
    "| **Retention** $= \\frac{\\text{number of user-ids to remain enrolled past 14-day boundary}}{\\text{number of user-ids to complete checkout}}$ | 0.01 |\n",
    "| **Net Conversion** $= \\frac{\\text{number of user-ids to remain enrolled past 14-day boundary }}{\\text{number of unique cookies to click the button}}$ | 0.0075 | \n"
   ]
  },
  {
   "cell_type": "code",
   "execution_count": 3,
   "metadata": {},
   "outputs": [],
   "source": [
    "# collected data:\n",
    "N_cookies = 40000\n",
    "N_clicks = 3200\n",
    "N_enroll_per_day = 660\n",
    "CTP_sftrial = 0.08\n",
    "P_enroll_click = 0.20625  # gross conversion\n",
    "P_pay_enroll = 0.53       # retention\n",
    "P_pay_click = 0.1093125   # net conversion\n",
    "\n",
    "# practical significance levels\n",
    "d_min_cookies=3000\n",
    "d_min_userid=50\n",
    "d_min_enroll=240\n",
    "d_min_CTP=0.01\n",
    "d_min_Gross_conversion=0.01\n",
    "d_min_Retention=0.01\n",
    "d_min_Net_conversion=0.0075"
   ]
  },
  {
   "cell_type": "code",
   "execution_count": 6,
   "metadata": {},
   "outputs": [],
   "source": [
    "GC={}\n",
    "GC['d_min'] = d_min_Gross_conversion\n",
    "GC['p'] = P_enroll_click\n",
    "GC['n'] = N_clicks\n",
    "\n",
    "RT={}\n",
    "RT['d_min'] = d_min_Retention\n",
    "RT['p'] = P_pay_enroll\n"
   ]
  },
  {
   "cell_type": "markdown",
   "metadata": {},
   "source": [
    "### 2.5 Hypothesis\n",
    "\n",
    "$H_0$: There are no significant differences between control group and experiment group.  \n",
    "$H_1$: There are significant differences between gcontrol group and experiment group. "
   ]
  },
  {
   "cell_type": "markdown",
   "metadata": {},
   "source": [
    "## 3.Design the Experiment\n",
    "\n",
    "### 3.1 Metric Choice\n",
    "\n",
    "<img src=\"image/19.png\" width=\"500\">"
   ]
  },
  {
   "cell_type": "markdown",
   "metadata": {},
   "source": [
    "**Invariant Metrics:** \n",
    "- Number of cookies:&emsp;&emsp;&emsp;New function is added after cookies are counted, therefore, should remain unchange.\n",
    "- Number of clicks:&emsp;&emsp;&emsp;&emsp;Same reason as above.\n",
    "- Click Through Probability: Cookies and clicks remain unchange, which lead to CTP unchange.     \n",
    "      \n",
    "**Evaluation Metrics:**  \n",
    "- Gross conversion\n",
    "- Retention\n",
    "- Net conversion\n",
    "\n",
    "**Unit of diversion:** \n",
    "- The unit of diversion is a **cookie**, although if the student enrolls in the free trial, they are tracked by user-id from that point forward. The same user-id cannot enroll in the free trial twice. For users that do not enroll, their user-id is not tracked in the experiment, even if they were signed in when they visited the course overview page.\n",
    "\n",
    "### 3.2 Measuring Standard Deviation\n",
    "\n",
    "**Standard Error of Evaluation Metrics** (given a sample size of 5000 cookies visiting the course overview page)\n"
   ]
  },
  {
   "cell_type": "markdown",
   "metadata": {},
   "source": [
    "$SE=\\sqrt{\\frac{p*(1-p)}{\\frac{5000}{N_{pageviews}}*N_{clicks}}}$"
   ]
  },
  {
   "cell_type": "code",
   "execution_count": 14,
   "metadata": {},
   "outputs": [
    {
     "name": "stdout",
     "output_type": "stream",
     "text": [
      "Gross conversion SE: 0.0202\n",
      "Retention SE: 0.0549\n",
      "Net conversion SE: 0.0156\n"
     ]
    }
   ],
   "source": [
    "gc_SE=round(np.sqrt(P_enroll_click*(1-P_enroll_click)/(5000*N_clicks/N_cookies)),4)\n",
    "ret_SE=round(np.sqrt(P_pay_enroll*(1-P_pay_enroll)/(5000*N_enroll_per_day/N_cookies)),4)\n",
    "nc_SE=round(math.sqrt(P_pay_click*(1-P_pay_click)/(5000*N_clicks/N_cookies)),4)\n",
    "print(f'Gross conversion SE: {gc_SE}')\n",
    "print(f'Retention SE: {ret_SE}')\n",
    "print(f'Net conversion SE: {nc_SE}')"
   ]
  },
  {
   "cell_type": "markdown",
   "metadata": {},
   "source": [
    "|  metric  |  analytic result  |  empirical result  |\n",
    "|  ----------------  |  ------  |  -------   |\n",
    "|  Gross Conversion  |  0.0202  |  0.20625   |\n",
    "|  Retention         |  0.0549  |  0.53      |\n",
    "|  Net Conversion    |  0.0156  |  0.1093125 |\n",
    "\n",
    "The analytic estimates seems comparable to the empirical variability"
   ]
  },
  {
   "cell_type": "markdown",
   "metadata": {},
   "source": [
    "### Sizing\n",
    "\n",
    "#### **Number of Samples vs. Power**"
   ]
  },
  {
   "cell_type": "markdown",
   "metadata": {},
   "source": [
    "**Do we need Bonferroni Correction:**  \n",
    "  This experiment has 3 metrics: Gross Conversion(GC), Retention(RT), Net Conversion(NC). So, for a multiple metrics AB test, we should consider if Bonferroni Correction need to be applied.  \n"
   ]
  },
  {
   "cell_type": "code",
   "execution_count": 7,
   "metadata": {},
   "outputs": [
    {
     "name": "stdout",
     "output_type": "stream",
     "text": [
      "alpha corrected: 0.0167\n"
     ]
    }
   ],
   "source": [
    "N=3 # number of metrics\n",
    "a=0.05\n",
    "a_corrected=a/N\n",
    "print(f'alpha corrected: {round(a_corrected,4)}')"
   ]
  },
  {
   "cell_type": "markdown",
   "metadata": {},
   "source": [
    "Recall that the $d_{min}$ for 3 evaluation metrics are $[0.01,0.01,0.0075]$. None of the $d_{min}$ is greater or equal to $\\alpha_{corrected}$. Thus, we do not need Bonferroni Correction here."
   ]
  },
  {
   "cell_type": "markdown",
   "metadata": {},
   "source": [
    "**Calculate the Size**"
   ]
  },
  {
   "cell_type": "code",
   "execution_count": 8,
   "metadata": {},
   "outputs": [],
   "source": [
    "n_gc=25835\n",
    "n_rt=39115\n",
    "n_nc=27413\n",
    "n_group=2"
   ]
  },
  {
   "cell_type": "markdown",
   "metadata": {},
   "source": []
  },
  {
   "cell_type": "markdown",
   "metadata": {},
   "source": [
    "**Calculate pageviews we need**"
   ]
  },
  {
   "cell_type": "code",
   "execution_count": 9,
   "metadata": {},
   "outputs": [
    {
     "data": {
      "text/html": [
       "<div>\n",
       "<style scoped>\n",
       "    .dataframe tbody tr th:only-of-type {\n",
       "        vertical-align: middle;\n",
       "    }\n",
       "\n",
       "    .dataframe tbody tr th {\n",
       "        vertical-align: top;\n",
       "    }\n",
       "\n",
       "    .dataframe thead th {\n",
       "        text-align: right;\n",
       "    }\n",
       "</style>\n",
       "<table border=\"1\" class=\"dataframe\">\n",
       "  <thead>\n",
       "    <tr style=\"text-align: right;\">\n",
       "      <th></th>\n",
       "      <th>Metrics</th>\n",
       "      <th>Sample Size</th>\n",
       "      <th>Pageview Needed</th>\n",
       "    </tr>\n",
       "  </thead>\n",
       "  <tbody>\n",
       "    <tr>\n",
       "      <th>0</th>\n",
       "      <td>Gross Conversion</td>\n",
       "      <td>25835</td>\n",
       "      <td>645875</td>\n",
       "    </tr>\n",
       "    <tr>\n",
       "      <th>1</th>\n",
       "      <td>Retention</td>\n",
       "      <td>39115</td>\n",
       "      <td>4741212</td>\n",
       "    </tr>\n",
       "    <tr>\n",
       "      <th>2</th>\n",
       "      <td>Net Conversion</td>\n",
       "      <td>27413</td>\n",
       "      <td>685325</td>\n",
       "    </tr>\n",
       "  </tbody>\n",
       "</table>\n",
       "</div>"
      ],
      "text/plain": [
       "            Metrics  Sample Size  Pageview Needed\n",
       "0  Gross Conversion        25835           645875\n",
       "1         Retention        39115          4741212\n",
       "2    Net Conversion        27413           685325"
      ]
     },
     "execution_count": 9,
     "metadata": {},
     "output_type": "execute_result"
    }
   ],
   "source": [
    "#pageview needed:\n",
    "n1=round(n_gc*n_group/(N_clicks/N_cookies))\n",
    "n2=round(n_rt*n_group/(N_enroll_per_day/N_cookies))\n",
    "n3=round(n_nc*n_group/(N_clicks/N_cookies))\n",
    "sizedata={'Metrics':['Gross Conversion','Retention','Net Conversion'],\n",
    "          'Sample Size':[n_gc,n_rt,n_nc],\n",
    "          'Pageview Needed':[n1,n2,n3]}\n",
    "sizedf=pd.DataFrame(sizedata)\n",
    "sizedf"
   ]
  },
  {
   "cell_type": "markdown",
   "metadata": {},
   "source": [
    "#### **Duration vs. Exposure**"
   ]
  },
  {
   "cell_type": "code",
   "execution_count": 10,
   "metadata": {},
   "outputs": [
    {
     "data": {
      "text/html": [
       "<div>\n",
       "<style scoped>\n",
       "    .dataframe tbody tr th:only-of-type {\n",
       "        vertical-align: middle;\n",
       "    }\n",
       "\n",
       "    .dataframe tbody tr th {\n",
       "        vertical-align: top;\n",
       "    }\n",
       "\n",
       "    .dataframe thead th {\n",
       "        text-align: right;\n",
       "    }\n",
       "</style>\n",
       "<table border=\"1\" class=\"dataframe\">\n",
       "  <thead>\n",
       "    <tr style=\"text-align: right;\">\n",
       "      <th></th>\n",
       "      <th>Metrics</th>\n",
       "      <th>Sample Size</th>\n",
       "      <th>Pageview Needed</th>\n",
       "      <th>duration</th>\n",
       "    </tr>\n",
       "  </thead>\n",
       "  <tbody>\n",
       "    <tr>\n",
       "      <th>0</th>\n",
       "      <td>Gross Conversion</td>\n",
       "      <td>25835</td>\n",
       "      <td>645875.0</td>\n",
       "      <td>17</td>\n",
       "    </tr>\n",
       "    <tr>\n",
       "      <th>1</th>\n",
       "      <td>Retention</td>\n",
       "      <td>39115</td>\n",
       "      <td>4741212.0</td>\n",
       "      <td>119</td>\n",
       "    </tr>\n",
       "    <tr>\n",
       "      <th>2</th>\n",
       "      <td>Net Conversion</td>\n",
       "      <td>27413</td>\n",
       "      <td>685325.0</td>\n",
       "      <td>18</td>\n",
       "    </tr>\n",
       "  </tbody>\n",
       "</table>\n",
       "</div>"
      ],
      "text/plain": [
       "            Metrics  Sample Size  Pageview Needed  duration\n",
       "0  Gross Conversion        25835         645875.0        17\n",
       "1         Retention        39115        4741212.0       119\n",
       "2    Net Conversion        27413         685325.0        18"
      ]
     },
     "execution_count": 10,
     "metadata": {},
     "output_type": "execute_result"
    }
   ],
   "source": [
    "sizedf['Pageview Needed'] = sizedf['Pageview Needed'].astype(float)\n",
    "\n",
    "# Calculate the 'duration' column with ceil function\n",
    "sizedf['duration'] = sizedf['Pageview Needed'].apply(lambda x: math.ceil(x / N_cookies))\n",
    "\n",
    "# Display the DataFrame\n",
    "sizedf\n"
   ]
  },
  {
   "cell_type": "markdown",
   "metadata": {},
   "source": [
    "## Analyzing Results\n",
    "\n",
    "### Sanity Checks\n"
   ]
  },
  {
   "cell_type": "code",
   "execution_count": 11,
   "metadata": {},
   "outputs": [],
   "source": [
    "control= pd.read_csv('data/Final Project Results - Control.csv')\n",
    "experiment= pd.read_csv('data/Final Project Results - Experiment.csv')"
   ]
  },
  {
   "cell_type": "code",
   "execution_count": 12,
   "metadata": {},
   "outputs": [
    {
     "data": {
      "text/html": [
       "<div>\n",
       "<style scoped>\n",
       "    .dataframe tbody tr th:only-of-type {\n",
       "        vertical-align: middle;\n",
       "    }\n",
       "\n",
       "    .dataframe tbody tr th {\n",
       "        vertical-align: top;\n",
       "    }\n",
       "\n",
       "    .dataframe thead th {\n",
       "        text-align: right;\n",
       "    }\n",
       "</style>\n",
       "<table border=\"1\" class=\"dataframe\">\n",
       "  <thead>\n",
       "    <tr style=\"text-align: right;\">\n",
       "      <th></th>\n",
       "      <th>Date</th>\n",
       "      <th>Pageviews</th>\n",
       "      <th>Clicks</th>\n",
       "      <th>Enrollments</th>\n",
       "      <th>Payments</th>\n",
       "    </tr>\n",
       "  </thead>\n",
       "  <tbody>\n",
       "    <tr>\n",
       "      <th>0</th>\n",
       "      <td>Sat, Oct 11</td>\n",
       "      <td>7723</td>\n",
       "      <td>687</td>\n",
       "      <td>134.0</td>\n",
       "      <td>70.0</td>\n",
       "    </tr>\n",
       "    <tr>\n",
       "      <th>1</th>\n",
       "      <td>Sun, Oct 12</td>\n",
       "      <td>9102</td>\n",
       "      <td>779</td>\n",
       "      <td>147.0</td>\n",
       "      <td>70.0</td>\n",
       "    </tr>\n",
       "    <tr>\n",
       "      <th>2</th>\n",
       "      <td>Mon, Oct 13</td>\n",
       "      <td>10511</td>\n",
       "      <td>909</td>\n",
       "      <td>167.0</td>\n",
       "      <td>95.0</td>\n",
       "    </tr>\n",
       "    <tr>\n",
       "      <th>3</th>\n",
       "      <td>Tue, Oct 14</td>\n",
       "      <td>9871</td>\n",
       "      <td>836</td>\n",
       "      <td>156.0</td>\n",
       "      <td>105.0</td>\n",
       "    </tr>\n",
       "    <tr>\n",
       "      <th>4</th>\n",
       "      <td>Wed, Oct 15</td>\n",
       "      <td>10014</td>\n",
       "      <td>837</td>\n",
       "      <td>163.0</td>\n",
       "      <td>64.0</td>\n",
       "    </tr>\n",
       "  </tbody>\n",
       "</table>\n",
       "</div>"
      ],
      "text/plain": [
       "          Date  Pageviews  Clicks  Enrollments  Payments\n",
       "0  Sat, Oct 11       7723     687        134.0      70.0\n",
       "1  Sun, Oct 12       9102     779        147.0      70.0\n",
       "2  Mon, Oct 13      10511     909        167.0      95.0\n",
       "3  Tue, Oct 14       9871     836        156.0     105.0\n",
       "4  Wed, Oct 15      10014     837        163.0      64.0"
      ]
     },
     "execution_count": 12,
     "metadata": {},
     "output_type": "execute_result"
    }
   ],
   "source": [
    "control.head()"
   ]
  },
  {
   "cell_type": "code",
   "execution_count": 13,
   "metadata": {},
   "outputs": [
    {
     "data": {
      "text/html": [
       "<div>\n",
       "<style scoped>\n",
       "    .dataframe tbody tr th:only-of-type {\n",
       "        vertical-align: middle;\n",
       "    }\n",
       "\n",
       "    .dataframe tbody tr th {\n",
       "        vertical-align: top;\n",
       "    }\n",
       "\n",
       "    .dataframe thead th {\n",
       "        text-align: right;\n",
       "    }\n",
       "</style>\n",
       "<table border=\"1\" class=\"dataframe\">\n",
       "  <thead>\n",
       "    <tr style=\"text-align: right;\">\n",
       "      <th></th>\n",
       "      <th>Date</th>\n",
       "      <th>Pageviews</th>\n",
       "      <th>Clicks</th>\n",
       "      <th>Enrollments</th>\n",
       "      <th>Payments</th>\n",
       "    </tr>\n",
       "  </thead>\n",
       "  <tbody>\n",
       "    <tr>\n",
       "      <th>0</th>\n",
       "      <td>Sat, Oct 11</td>\n",
       "      <td>7716</td>\n",
       "      <td>686</td>\n",
       "      <td>105.0</td>\n",
       "      <td>34.0</td>\n",
       "    </tr>\n",
       "    <tr>\n",
       "      <th>1</th>\n",
       "      <td>Sun, Oct 12</td>\n",
       "      <td>9288</td>\n",
       "      <td>785</td>\n",
       "      <td>116.0</td>\n",
       "      <td>91.0</td>\n",
       "    </tr>\n",
       "    <tr>\n",
       "      <th>2</th>\n",
       "      <td>Mon, Oct 13</td>\n",
       "      <td>10480</td>\n",
       "      <td>884</td>\n",
       "      <td>145.0</td>\n",
       "      <td>79.0</td>\n",
       "    </tr>\n",
       "    <tr>\n",
       "      <th>3</th>\n",
       "      <td>Tue, Oct 14</td>\n",
       "      <td>9867</td>\n",
       "      <td>827</td>\n",
       "      <td>138.0</td>\n",
       "      <td>92.0</td>\n",
       "    </tr>\n",
       "    <tr>\n",
       "      <th>4</th>\n",
       "      <td>Wed, Oct 15</td>\n",
       "      <td>9793</td>\n",
       "      <td>832</td>\n",
       "      <td>140.0</td>\n",
       "      <td>94.0</td>\n",
       "    </tr>\n",
       "  </tbody>\n",
       "</table>\n",
       "</div>"
      ],
      "text/plain": [
       "          Date  Pageviews  Clicks  Enrollments  Payments\n",
       "0  Sat, Oct 11       7716     686        105.0      34.0\n",
       "1  Sun, Oct 12       9288     785        116.0      91.0\n",
       "2  Mon, Oct 13      10480     884        145.0      79.0\n",
       "3  Tue, Oct 14       9867     827        138.0      92.0\n",
       "4  Wed, Oct 15       9793     832        140.0      94.0"
      ]
     },
     "execution_count": 13,
     "metadata": {},
     "output_type": "execute_result"
    }
   ],
   "source": [
    "experiment.head()"
   ]
  },
  {
   "cell_type": "code",
   "execution_count": 40,
   "metadata": {},
   "outputs": [],
   "source": [
    "def sanitycheck(control,experiment,p,alpha):\n",
    "    control=control\n",
    "    experiment=experiment\n",
    "    total=control+experiment\n",
    "    p_hat=control/total\n",
    "    sd=round(np.sqrt(p*(1-p)/total),4)\n",
    "    z=1.96\n",
    "    m=round(sd*z,4)\n",
    "    lower_CI=round(p_hat-m,4)\n",
    "    upper_CI=round(p_hat+m,4)\n",
    "    result = pd.DataFrame({\n",
    "        'lower_CI': [lower_CI],\n",
    "        'upper_CI': [upper_CI],\n",
    "        'observed': [p_hat],\n",
    "        'pass': [lower_CI <= p_hat <= upper_CI],\n",
    "    })\n",
    "\n",
    "    return result"
   ]
  },
  {
   "cell_type": "markdown",
   "metadata": {},
   "source": [
    "Pageview Sanity Check"
   ]
  },
  {
   "cell_type": "code",
   "execution_count": 41,
   "metadata": {},
   "outputs": [
    {
     "name": "stdout",
     "output_type": "stream",
     "text": [
      "   lower_CI  upper_CI  observed  pass\n",
      "0    0.4994    0.5018   0.50064  True\n"
     ]
    }
   ],
   "source": [
    "pageview_snc=sanitycheck(control['Pageviews'].sum(),experiment['Pageviews'].sum(),0.5,0.05)\n",
    "print(pageview_snc)"
   ]
  },
  {
   "cell_type": "markdown",
   "metadata": {},
   "source": [
    "Let's see what happened in data day by day."
   ]
  },
  {
   "cell_type": "code",
   "execution_count": 39,
   "metadata": {},
   "outputs": [
    {
     "data": {
      "text/html": [
       "<div>\n",
       "<style scoped>\n",
       "    .dataframe tbody tr th:only-of-type {\n",
       "        vertical-align: middle;\n",
       "    }\n",
       "\n",
       "    .dataframe tbody tr th {\n",
       "        vertical-align: top;\n",
       "    }\n",
       "\n",
       "    .dataframe thead th {\n",
       "        text-align: right;\n",
       "    }\n",
       "</style>\n",
       "<table border=\"1\" class=\"dataframe\">\n",
       "  <thead>\n",
       "    <tr style=\"text-align: right;\">\n",
       "      <th></th>\n",
       "      <th>control</th>\n",
       "      <th>experiment</th>\n",
       "      <th>observed</th>\n",
       "    </tr>\n",
       "  </thead>\n",
       "  <tbody>\n",
       "    <tr>\n",
       "      <th>0</th>\n",
       "      <td>7723</td>\n",
       "      <td>7716</td>\n",
       "      <td>0.500227</td>\n",
       "    </tr>\n",
       "    <tr>\n",
       "      <th>1</th>\n",
       "      <td>9102</td>\n",
       "      <td>9288</td>\n",
       "      <td>0.494943</td>\n",
       "    </tr>\n",
       "    <tr>\n",
       "      <th>2</th>\n",
       "      <td>10511</td>\n",
       "      <td>10480</td>\n",
       "      <td>0.500738</td>\n",
       "    </tr>\n",
       "    <tr>\n",
       "      <th>3</th>\n",
       "      <td>9871</td>\n",
       "      <td>9867</td>\n",
       "      <td>0.500101</td>\n",
       "    </tr>\n",
       "    <tr>\n",
       "      <th>4</th>\n",
       "      <td>10014</td>\n",
       "      <td>9793</td>\n",
       "      <td>0.505579</td>\n",
       "    </tr>\n",
       "  </tbody>\n",
       "</table>\n",
       "</div>"
      ],
      "text/plain": [
       "   control  experiment  observed\n",
       "0     7723        7716  0.500227\n",
       "1     9102        9288  0.494943\n",
       "2    10511       10480  0.500738\n",
       "3     9871        9867  0.500101\n",
       "4    10014        9793  0.505579"
      ]
     },
     "execution_count": 39,
     "metadata": {},
     "output_type": "execute_result"
    }
   ],
   "source": [
    "pageview=pd.DataFrame({'control': control['Pageviews'],\n",
    "                       'experiment': experiment['Pageviews'],\n",
    "                       'observed': control['Pageviews']/(control['Pageviews']+experiment['Pageviews'])})\n",
    "pageview.head()"
   ]
  },
  {
   "cell_type": "markdown",
   "metadata": {},
   "source": [
    "Clicks Sanity Check"
   ]
  },
  {
   "cell_type": "code",
   "execution_count": 42,
   "metadata": {},
   "outputs": [
    {
     "name": "stdout",
     "output_type": "stream",
     "text": [
      "   lower_CI  upper_CI  observed  pass\n",
      "0    0.4964    0.5046  0.500467  True\n"
     ]
    }
   ],
   "source": [
    "click_snc=sanitycheck(control['Clicks'].sum(),experiment['Clicks'].sum(),0.5,0.05)\n",
    "print(click_snc)"
   ]
  },
  {
   "cell_type": "markdown",
   "metadata": {},
   "source": [
    "CTP Sanity Check"
   ]
  },
  {
   "cell_type": "code",
   "execution_count": 35,
   "metadata": {},
   "outputs": [
    {
     "name": "stdout",
     "output_type": "stream",
     "text": [
      "CI: [-0.0012,0.0014] d_hat: 0.0001\n"
     ]
    },
    {
     "data": {
      "text/plain": [
       "True"
      ]
     },
     "execution_count": 35,
     "metadata": {},
     "output_type": "execute_result"
    }
   ],
   "source": [
    "clicks_cont = control['Clicks'].sum()\n",
    "clicks_exp = experiment['Clicks'].sum()\n",
    "clicks_total = clicks_cont + clicks_exp\n",
    "pageviews_cont = control['Pageviews'].sum()\n",
    "pageviews_exp = experiment['Pageviews'].sum()\n",
    "pageviews_total = pageviews_cont + pageviews_exp\n",
    "ctp_cont=clicks_cont/pageviews_cont\n",
    "ctp_exp=clicks_exp/pageviews_exp\n",
    "d_hat=round(ctp_exp-ctp_cont,4)\n",
    "p_pooled=clicks_total/pageviews_total\n",
    "sd_pooled=np.sqrt(p_pooled*(1-p_pooled)*(1/pageviews_cont+1/pageviews_exp))\n",
    "m=round(1.96*sd_pooled,4)\n",
    "CI_lower=round(d_hat-m,4)\n",
    "CI_upper=round(d_hat+m,4)\n",
    "print(f'CI: [{CI_lower},{CI_upper}]', f'd_hat: {d_hat}')\n",
    "CI_lower<=d_hat<=CI_upper"
   ]
  },
  {
   "cell_type": "markdown",
   "metadata": {},
   "source": [
    "### Sign Tests \n",
    "\n",
    "The p-value of Gross conversion is 0.0026, < 0.05. Therefore, Gross conversion is statistically significant.  \n",
    "The p-value of Net conversion is 0.6776, > 0.05. Therefore, Net conversion is not statistically significant.  "
   ]
  }
 ],
 "metadata": {
  "kernelspec": {
   "display_name": "base",
   "language": "python",
   "name": "python3"
  },
  "language_info": {
   "codemirror_mode": {
    "name": "ipython",
    "version": 3
   },
   "file_extension": ".py",
   "mimetype": "text/x-python",
   "name": "python",
   "nbconvert_exporter": "python",
   "pygments_lexer": "ipython3",
   "version": "3.10.9"
  },
  "orig_nbformat": 4
 },
 "nbformat": 4,
 "nbformat_minor": 2
}
